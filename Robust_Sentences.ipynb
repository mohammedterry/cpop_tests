{
  "nbformat": 4,
  "nbformat_minor": 0,
  "metadata": {
    "colab": {
      "name": "Robust_Sentences.ipynb",
      "version": "0.3.2",
      "provenance": [],
      "include_colab_link": true
    },
    "kernelspec": {
      "name": "python3",
      "display_name": "Python 3"
    }
  },
  "cells": [
    {
      "cell_type": "markdown",
      "metadata": {
        "id": "view-in-github",
        "colab_type": "text"
      },
      "source": [
        "<a href=\"https://colab.research.google.com/github/mohammedterry/cpop_tests/blob/master/Robust_Sentences.ipynb\" target=\"_parent\"><img src=\"https://colab.research.google.com/assets/colab-badge.svg\" alt=\"Open In Colab\"/></a>"
      ]
    },
    {
      "metadata": {
        "id": "aTaxFDt_VBUn",
        "colab_type": "code",
        "colab": {}
      },
      "cell_type": "code",
      "source": [
        "from scipy.spatial.distance import cosine, euclidean #sample metrics to measure vector similarity\n",
        "import tensorflow as tf\n",
        "import tensorflow_hub as hub\n",
        "tf.logging.set_verbosity(tf.logging.ERROR) #hide log messages from tensorflow\n",
        "\n",
        "class RobustSentences():  \n",
        "  def __init__(self, sentences): #initialise with a list of sentences\n",
        "    self.universal_encoder = hub.Module(\"https://tfhub.dev/google/universal-sentence-encoder-large/3\") #large Universal Encoder (bi-LSTM with attention version)\n",
        "    self.sentences = sentences\n",
        "    self.vectors = self._embed(sentences)\n",
        "      \n",
        "  def __call__(self,new_sentence, metric = 0, n_most_similar = 1): \n",
        "    vector = self._embed([new_sentence])[0]\n",
        "    distance = [cosine,euclidean][metric] #default metric 0: cosine, 1: euclidean (different ways to measure similarity of a vector)\n",
        "    scores = [distance(vector, vec) for vec in self.vectors] #measure similarity of each sentence to the new sentence using the chosen metric\n",
        "    ranked_candidates_idx = sorted([(score,idx) for idx,score in enumerate(scores)]) #order the sentences according to the lowest difference\n",
        "    return [self.sentences[idx] for _,idx in ranked_candidates_idx[:n_most_similar]] #return the n_most_similar sentences as strings\n",
        "\n",
        "  def _embed(self, sentences):\n",
        "    with tf.Session() as session:\n",
        "      session.run([tf.global_variables_initializer(), tf.tables_initializer()])\n",
        "      return session.run(self.universal_encoder(sentences))"
      ],
      "execution_count": 0,
      "outputs": []
    },
    {
      "metadata": {
        "id": "7LYVUN12XAzT",
        "colab_type": "code",
        "colab": {}
      },
      "cell_type": "code",
      "source": [
        "rs = RobustSentences([  #give a list of sentences\n",
        "    \"I like my phone\",\n",
        "    \"My phone is not good.\",\n",
        "    \"Your cellphone looks great.\",\n",
        "    \"Will it snow tomorrow?\",\n",
        "    \"Recently a lot of hurricanes have hit the US\",\n",
        "    \"Global warming is real\",\n",
        "    \"An apple a day, keeps the doctors away\",\n",
        "    \"Eating strawberries is healthy\",\n",
        "    \"Is paleo better than keto?\",\n",
        "    \"How old are you?\",\n",
        "    \"what is your age?\",\n",
        "    \"Cats chase dogs\",\n",
        "    \"Dogs chase cats\",\n",
        "])"
      ],
      "execution_count": 0,
      "outputs": []
    },
    {
      "metadata": {
        "id": "OKQNv-mvZSKV",
        "colab_type": "code",
        "colab": {
          "base_uri": "https://localhost:8080/",
          "height": 35
        },
        "outputId": "413eaa0d-a3bb-466e-fd34-d8955134fb0d"
      },
      "cell_type": "code",
      "source": [
        "rs(\"how young are you\")  #ask a completely new sentence and it returns the most similar from the list given"
      ],
      "execution_count": 26,
      "outputs": [
        {
          "output_type": "execute_result",
          "data": {
            "text/plain": [
              "['How old are you?']"
            ]
          },
          "metadata": {
            "tags": []
          },
          "execution_count": 26
        }
      ]
    },
    {
      "metadata": {
        "id": "hxLFrO1FZTjM",
        "colab_type": "code",
        "colab": {
          "base_uri": "https://localhost:8080/",
          "height": 35
        },
        "outputId": "a83e7c92-b3cd-4d3a-d0a6-cd535c87d1d5"
      },
      "cell_type": "code",
      "source": [
        "rs(\"how young are you\",metric = 1) #try alternative methods for measuring vector similarity (default 0: cosine, 1: euclidean)"
      ],
      "execution_count": 32,
      "outputs": [
        {
          "output_type": "execute_result",
          "data": {
            "text/plain": [
              "['How old are you?']"
            ]
          },
          "metadata": {
            "tags": []
          },
          "execution_count": 32
        }
      ]
    },
    {
      "metadata": {
        "id": "xUMEc3NVZgOP",
        "colab_type": "code",
        "colab": {
          "base_uri": "https://localhost:8080/",
          "height": 35
        },
        "outputId": "3feca409-afca-4824-8bd0-2a7ee442c7d3"
      },
      "cell_type": "code",
      "source": [
        "rs(\"i like puppies\", n_most_similar = 3) #adjust how many sentences are returned "
      ],
      "execution_count": 33,
      "outputs": [
        {
          "output_type": "execute_result",
          "data": {
            "text/plain": [
              "['Dogs chase cats', 'Cats chase dogs', 'I like my phone']"
            ]
          },
          "metadata": {
            "tags": []
          },
          "execution_count": 33
        }
      ]
    }
  ]
}